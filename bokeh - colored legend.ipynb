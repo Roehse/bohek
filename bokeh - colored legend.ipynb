{
 "cells": [
  {
   "cell_type": "code",
   "execution_count": 2,
   "id": "9378c593-ad65-45dd-9b27-7609c2e4981e",
   "metadata": {},
   "outputs": [
    {
     "name": "stdout",
     "output_type": "stream",
     "text": [
      "The plot has been saved under the file name: \"plot_colored legend.html\"\n"
     ]
    }
   ],
   "source": [
    "from bokeh.io import *\n",
    "from bokeh.models import Legend\n",
    "from bokeh.plotting import figure\n",
    "\n",
    "names = [\"Jim\",\"Bob\",\"Assia\"]\n",
    "colors = [\"red\",\"blue\",\"green\"]\n",
    "\n",
    "# filename for saving the plot in current folder\n",
    "plot_filename = \"plot_colored legend.html\"\n",
    "\n",
    "# legend1 = Legend( label_text_color=colors[k],items=[\n",
    "fig = figure(plot_width=900, plot_height=450)\n",
    "items = []\n",
    "for i in range(3):                                  # horizontal or vertical   # above, below, left, right or center           row=  Abstand,  \n",
    "    #                                                                                                                                           column höhe oben\n",
    "    fig.add_layout(Legend( \n",
    "                          label_text_color=colors[i], \n",
    "                                  items=[(names[i], \n",
    "                                      [fig.circle(i,i,color=colors[i], size=20)])],\n",
    "                          border_line_alpha = 0.0,\n",
    "                          location=((5 + (i * -85) )- i**i  ,380- i *25 )),\n",
    "                   'right')\n",
    "\n",
    "output_file(plot_filename)\n",
    "print ('The plot has been saved under the file name: \"{}\"'.format(plot_filename))\n",
    "show(fig)"
   ]
  },
  {
   "cell_type": "code",
   "execution_count": null,
   "id": "6f04f40a-0c4d-4ff7-9a1a-ddf676464f3c",
   "metadata": {},
   "outputs": [],
   "source": []
  }
 ],
 "metadata": {
  "kernelspec": {
   "display_name": "Python 3 (ipykernel)",
   "language": "python",
   "name": "python3"
  },
  "language_info": {
   "codemirror_mode": {
    "name": "ipython",
    "version": 3
   },
   "file_extension": ".py",
   "mimetype": "text/x-python",
   "name": "python",
   "nbconvert_exporter": "python",
   "pygments_lexer": "ipython3",
   "version": "3.9.12"
  }
 },
 "nbformat": 4,
 "nbformat_minor": 5
}
